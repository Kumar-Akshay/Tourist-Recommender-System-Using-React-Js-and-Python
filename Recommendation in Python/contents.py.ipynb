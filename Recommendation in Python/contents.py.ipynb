{
 "cells": [
  {
   "cell_type": "code",
   "execution_count": 1,
   "metadata": {},
   "outputs": [],
   "source": [
    "import pandas as pd\n",
    "import numpy as np\n",
    "import re, math\n",
    "from collections import Counter\n",
    "from googlemaps import convert\n",
    "from googlemaps import Client\n",
    "from googlemaps.convert import as_list\n",
    "\n",
    "WORD = re.compile(r'\\w+')"
   ]
  },
  {
   "cell_type": "code",
   "execution_count": 2,
   "metadata": {},
   "outputs": [],
   "source": [
    "def get_cosine(vec1, vec2):\n",
    "     intersection = set(vec1.keys()) & set(vec2.keys())\n",
    "     numerator = sum([vec1[x] * vec2[x] for x in intersection])\n",
    "     sum1 = sum([vec1[x]**2 for x in vec1.keys()])\n",
    "     sum2 = sum([vec2[x]**2 for x in vec2.keys()])\n",
    "     denominator = math.sqrt(sum1) * math.sqrt(sum2)\n",
    "     if not denominator:\n",
    "        return 0.0\n",
    "     else:\n",
    "        return float(numerator) / denominator\n",
    "\n",
    "def text_to_vector(text):\n",
    "     words = WORD.findall(text)\n",
    "     return Counter(words)\n",
    "\n",
    "def clean_data(x):\n",
    "    if isinstance(x, list):\n",
    "        return [str.lower(i.replace(\" \", \"\")) for i in x]\n",
    "    else:\n",
    "        if isinstance(x, str):\n",
    "            return str.lower(x.replace(\" \", \"\"))\n",
    "        else:\n",
    "            return ''"
   ]
  },
  {
   "cell_type": "code",
   "execution_count": 41,
   "metadata": {},
   "outputs": [
    {
     "name": "stdout",
     "output_type": "stream",
     "text": [
      "                            category  distance     duration nearby_places  \\\n",
      "0  Adventureous ,Relaxation,Romantic  139.16km  137.7166667          NONE   \n",
      "1  Adventureous ,Relaxation,Romantic   80.79km  150.6666667          NONE   \n",
      "2           Adventureous ,Relaxation   81.72km  152.5833333          NONE   \n",
      "3           Adventureous ,Relaxation   90.51km  179.1666667          NONE   \n",
      "4                Historical Heritage  133.04km  124.5833333          NONE   \n",
      "\n",
      "                        title  url  p_rating  count  itemId  \n",
      "0                   Thandiani  NaN       2.2  158.0     1.0  \n",
      "1  Dunga Gali Pine Line Track  NaN       4.6  652.0     2.0  \n",
      "2               Mukshpuri Top  NaN       5.0  783.0     3.0  \n",
      "3                   Miranjani  NaN       4.9  482.0     4.0  \n",
      "4          Old Lockhart House  NaN       4.2  890.0     5.0  \n",
      "Select your preferred category:\n",
      "1.Adventureous \n",
      "2.historical heritage\n",
      "3.Romantic\n",
      "4.Relaxation\n",
      "Enter User Interests: romantic\n"
     ]
    }
   ],
   "source": [
    "metadata = pd.read_csv('test2.csv', low_memory=False)\n",
    "print(metadata.head())\n",
    "print(\"Select your preferred category:\\n1.Adventureous \\n2.historical heritage\\n3.Romantic\\n4.Relaxation\")\n",
    "text1 = input(\"Enter User Interests: \")   #user preference\n",
    "vector1 = text_to_vector(text1)\n",
    "C = metadata['p_rating'].mean()\n",
    "m = metadata['count'].quantile(0.75)\n",
    "def weighted_rating(x, m=m, C=C):\n",
    "    v = x['count']\n",
    "    R = x['p_rating']\n",
    "    # Calculation based on the Bayesian Rating Formula\n",
    "    return (v/(v+m) * R) + (m/(m+v) * C)\n"
   ]
  },
  {
   "cell_type": "code",
   "execution_count": 42,
   "metadata": {},
   "outputs": [
    {
     "name": "stdout",
     "output_type": "stream",
     "text": [
      "Enter your location: ss world park\n",
      "['Dunga Gali Pine Line Track', 'Head Panjnad', 'Green Spot', 'Gulzar-e-Sadiq', 'Chitral Valley', 'Babusar Pass', 'Rumbur valley', 'Bahawalpur Zoo', 'Bumburet Valley', 'Chitral Gol National Park', 'Kalasha Valleys', 'Thandiani', 'Ss World Park', 'Bahawalpur Trade Center', 'Samandar Katha Lake', 'Lal Suhanra National Park', 'Garam Chashma']\n"
     ]
    }
   ],
   "source": [
    "metadata['category'] = metadata['category'].apply(clean_data)\n",
    "metadata['score'] = metadata.apply(weighted_rating, axis=1).fillna(0)\n",
    "cos=[]\n",
    "for i in list(metadata['category']):\n",
    "    #print(type(i))\n",
    "    text2 = i\n",
    "    vector2 = text_to_vector(text2)\n",
    "    cosine = get_cosine(vector1, vector2)\n",
    "    cos.append(cosine)\n",
    "metadata['cosine']=cos\n",
    "x=metadata['cosine']>0.0\n",
    "rec=pd.DataFrame(metadata[x])\n",
    "rec=rec.sort_values('score',ascending=False)\n",
    "src=input(\"Enter your location: \")\n",
    "dest=list(rec['title'])\n",
    "print(dest)\n",
    "    "
   ]
  },
  {
   "cell_type": "markdown",
   "metadata": {},
   "source": [
    "Enter your location: ss world park\n",
    "['Mukshpuri Top', 'Miranjani', 'Dunga Gali Pine Line Track', 'Head Panjnad', 'Green Spot', 'Gulzar-e-Sadiq', 'Chitral Valley', 'Babusar Pass', 'Rumbur valley', 'Bahawalpur Zoo', 'Bumburet Valley', 'Chitral Gol National Park', 'Kalasha Valleys', 'Shandur Pass', 'Noor Mahal', 'Thandiani', 'Ss World Park', 'Bahawalpur Trade Center', 'Samandar Katha Lake', 'Lal Suhanra National Park', 'Garam Chashma', 'Tirich Mir']"
   ]
  },
  {
   "cell_type": "code",
   "execution_count": null,
   "metadata": {},
   "outputs": [],
   "source": []
  }
 ],
 "metadata": {
  "kernelspec": {
   "display_name": "Python 3",
   "language": "python",
   "name": "python3"
  },
  "language_info": {
   "codemirror_mode": {
    "name": "ipython",
    "version": 3
   },
   "file_extension": ".py",
   "mimetype": "text/x-python",
   "name": "python",
   "nbconvert_exporter": "python",
   "pygments_lexer": "ipython3",
   "version": "3.7.4"
  }
 },
 "nbformat": 4,
 "nbformat_minor": 2
}
